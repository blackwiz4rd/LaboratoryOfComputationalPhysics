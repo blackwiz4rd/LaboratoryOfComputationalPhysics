{
 "cells": [
  {
   "cell_type": "markdown",
   "metadata": {},
   "source": [
    "### Numpy basics"
   ]
  },
  {
   "cell_type": "code",
   "execution_count": 2,
   "metadata": {},
   "outputs": [],
   "source": [
    "import numpy as np"
   ]
  },
  {
   "cell_type": "markdown",
   "metadata": {},
   "source": [
    "1\\. Find the row, column and overall means for the following matrix:\n",
    "\n",
    "```python\n",
    "m = np.arange(12).reshape((3,4))\n",
    "```"
   ]
  },
  {
   "cell_type": "code",
   "execution_count": 3,
   "metadata": {},
   "outputs": [
    {
     "name": "stdout",
     "output_type": "stream",
     "text": [
      "overall mean  5.5\n",
      "col mean [4. 5. 6. 7.]\n",
      "row mean [1.5 5.5 9.5]\n"
     ]
    }
   ],
   "source": [
    "m = np.arange(12).reshape((3,4))\n",
    "# print(m)\n",
    "# print(m.shape)\n",
    "print(\"overall mean \", np.mean(m))\n",
    "print(\"col mean\", np.mean(m, axis=0))\n",
    "print(\"row mean\", np.mean(m, axis=1))"
   ]
  },
  {
   "cell_type": "markdown",
   "metadata": {},
   "source": [
    "2\\. Find the outer product of the following two vecotrs\n",
    "\n",
    "```python\n",
    "u = np.array([1,3,5,7])\n",
    "v = np.array([2,4,6,8])\n",
    "```\n",
    "\n",
    "Do this in the following ways:\n",
    "\n",
    "   * Using the function outer in numpy\n",
    "   * Using a nested for loop or list comprehension\n",
    "   * Using numpy broadcasting operatoins\n"
   ]
  },
  {
   "cell_type": "code",
   "execution_count": 4,
   "metadata": {
    "scrolled": false
   },
   "outputs": [
    {
     "name": "stdout",
     "output_type": "stream",
     "text": [
      "[1 3 5 7] [2 4 6 8]\n",
      "[[ 2  4  6  8]\n",
      " [ 6 12 18 24]\n",
      " [10 20 30 40]\n",
      " [14 28 42 56]]\n",
      "[[ 2.  4.  6.  8.]\n",
      " [ 6. 12. 18. 24.]\n",
      " [10. 20. 30. 40.]\n",
      " [14. 28. 42. 56.]]\n"
     ]
    }
   ],
   "source": [
    "u = np.array([1,3,5,7])\n",
    "v = np.array([2,4,6,8])\n",
    "def outer(u, v):\n",
    "    outer = np.array([[]])\n",
    "    for ui in u:\n",
    "\n",
    "        row = np.array([[]])\n",
    "\n",
    "        for vj in v:\n",
    "            row = np.append(row, ui*vj)\n",
    "\n",
    "        outer = np.append(outer, row)\n",
    "    return outer.reshape(4,4)\n",
    "\n",
    "print(u, v)\n",
    "print(np.outer(u, v))\n",
    "print(outer(u, v))"
   ]
  },
  {
   "cell_type": "markdown",
   "metadata": {},
   "source": [
    "3\\. Create a 10 by 6 matrix of random uniform numbers. Set all rows with any entry less than 0.1 to be zero\n",
    "\n",
    "Hint: Use the following numpy functions - np.random.random, np.any as well as Boolean indexing and the axis argument."
   ]
  },
  {
   "cell_type": "code",
   "execution_count": 5,
   "metadata": {},
   "outputs": [
    {
     "name": "stdout",
     "output_type": "stream",
     "text": [
      "uniform: \n",
      " [[0.         0.         0.         0.         0.         0.        ]\n",
      " [0.67074908 0.82585276 0.13670659 0.57509333 0.89132195 0.20920212]\n",
      " [0.18532822 0.10837689 0.21969749 0.97862378 0.81168315 0.17194101]\n",
      " [0.81622475 0.27407375 0.43170418 0.94002982 0.81764938 0.33611195]\n",
      " [0.         0.         0.         0.         0.         0.        ]\n",
      " [0.         0.         0.         0.         0.         0.        ]\n",
      " [0.         0.         0.         0.         0.         0.        ]\n",
      " [0.         0.         0.         0.         0.         0.        ]\n",
      " [0.28589569 0.85239509 0.97500649 0.88485329 0.35950784 0.59885895]\n",
      " [0.         0.         0.         0.         0.         0.        ]] \n",
      "\n"
     ]
    }
   ],
   "source": [
    "import numpy.random as npr\n",
    "npr.seed(100) # fix seed for reproducible result\n",
    "\n",
    "m = npr.rand(10,6)\n",
    "mask = (m < 0.1)\n",
    "maskv2 = np.any(mask, axis=1)\n",
    "m[maskv2] = 0\n",
    "print (\"uniform:\",'\\n', m,'\\n')"
   ]
  },
  {
   "cell_type": "markdown",
   "metadata": {},
   "source": [
    "4\\. Use np.linspace to create an array of 100 numbers between 0 and 2π (includsive).\n",
    "\n",
    "  * Extract every 10th element using slice notation\n",
    "  * Reverse the array using slice notation\n",
    "  * Extract elements where the absolute difference between the sine and cosine functions evaluated at that element is less than 0.1\n",
    "  * Make a plot showing the sin and cos functions and indicate where they are close"
   ]
  },
  {
   "cell_type": "code",
   "execution_count": 6,
   "metadata": {
    "scrolled": true
   },
   "outputs": [
    {
     "name": "stdout",
     "output_type": "stream",
     "text": [
      "[0.         0.06346652 0.12693304 0.19039955 0.25386607 0.31733259\n",
      " 0.38079911 0.44426563 0.50773215 0.57119866 0.63466518 0.6981317\n",
      " 0.76159822 0.82506474 0.88853126 0.95199777 1.01546429 1.07893081\n",
      " 1.14239733 1.20586385 1.26933037 1.33279688 1.3962634  1.45972992\n",
      " 1.52319644 1.58666296 1.65012947 1.71359599 1.77706251 1.84052903\n",
      " 1.90399555 1.96746207 2.03092858 2.0943951  2.15786162 2.22132814\n",
      " 2.28479466 2.34826118 2.41172769 2.47519421 2.53866073 2.60212725\n",
      " 2.66559377 2.72906028 2.7925268  2.85599332 2.91945984 2.98292636\n",
      " 3.04639288 3.10985939 3.17332591 3.23679243 3.30025895 3.36372547\n",
      " 3.42719199 3.4906585  3.55412502 3.61759154 3.68105806 3.74452458\n",
      " 3.8079911  3.87145761 3.93492413 3.99839065 4.06185717 4.12532369\n",
      " 4.1887902  4.25225672 4.31572324 4.37918976 4.44265628 4.5061228\n",
      " 4.56958931 4.63305583 4.69652235 4.75998887 4.82345539 4.88692191\n",
      " 4.95038842 5.01385494 5.07732146 5.14078798 5.2042545  5.26772102\n",
      " 5.33118753 5.39465405 5.45812057 5.52158709 5.58505361 5.64852012\n",
      " 5.71198664 5.77545316 5.83891968 5.9023862  5.96585272 6.02931923\n",
      " 6.09278575 6.15625227 6.21971879 6.28318531]\n",
      "steps 10  [0.         0.57119866 1.14239733 1.71359599 2.28479466 2.85599332\n",
      " 3.42719199 3.99839065 4.56958931 5.14078798 5.71198664 6.28318531]\n",
      "reverse array  [6.28318531 6.21971879 6.15625227 6.09278575 6.02931923 5.96585272\n",
      " 5.9023862  5.83891968 5.77545316 5.71198664 5.64852012 5.58505361\n",
      " 5.52158709 5.45812057 5.39465405 5.33118753 5.26772102 5.2042545\n",
      " 5.14078798 5.07732146 5.01385494 4.95038842 4.88692191 4.82345539\n",
      " 4.75998887 4.69652235 4.63305583 4.56958931 4.5061228  4.44265628\n",
      " 4.37918976 4.31572324 4.25225672 4.1887902  4.12532369 4.06185717\n",
      " 3.99839065 3.93492413 3.87145761 3.8079911  3.74452458 3.68105806\n",
      " 3.61759154 3.55412502 3.4906585  3.42719199 3.36372547 3.30025895\n",
      " 3.23679243 3.17332591 3.10985939 3.04639288 2.98292636 2.91945984\n",
      " 2.85599332 2.7925268  2.72906028 2.66559377 2.60212725 2.53866073\n",
      " 2.47519421 2.41172769 2.34826118 2.28479466 2.22132814 2.15786162\n",
      " 2.0943951  2.03092858 1.96746207 1.90399555 1.84052903 1.77706251\n",
      " 1.71359599 1.65012947 1.58666296 1.52319644 1.45972992 1.3962634\n",
      " 1.33279688 1.26933037 1.20586385 1.14239733 1.07893081 1.01546429\n",
      " 0.95199777 0.88853126 0.82506474 0.76159822 0.6981317  0.63466518\n",
      " 0.57119866 0.50773215 0.44426563 0.38079911 0.31733259 0.25386607\n",
      " 0.19039955 0.12693304 0.06346652 0.        ]\n",
      "extracted elements |cos-sin|<0.1  [0.76159822 0.82506474 3.87145761 3.93492413]\n"
     ]
    },
    {
     "data": {
      "text/plain": [
       "[<matplotlib.lines.Line2D at 0x1122bde10>]"
      ]
     },
     "execution_count": 6,
     "metadata": {},
     "output_type": "execute_result"
    }
   ],
   "source": [
    "x = np.linspace(0, 2*np.pi, num=100)\n",
    "print(x)\n",
    "print(\"steps 10 \", x[0:100:9])\n",
    "print(\"reverse array \", x[::-1])\n",
    "mask = np.abs(np.sin(x)-np.cos(x)) < 0.1\n",
    "print(\"extracted elements |cos-sin|<0.1 \", x[mask])\n",
    "# % matplotlib inline\n",
    "import matplotlib.pyplot as plt\n",
    "plt.plot(x, np.cos(x))\n",
    "plt.plot(x, np.sin(x))\n",
    "plt.plot(x[mask], np.sin(x[mask]), '.')"
   ]
  },
  {
   "cell_type": "markdown",
   "metadata": {},
   "source": [
    "##### 5\\. Create a matrix that shows the 10 by 10 multiplication table.\n",
    "\n",
    " * Find the trace of the matrix\n",
    " * Extract the anti-diagonal (this should be ```array([10, 18, 24, 28, 30, 30, 28, 24, 18, 10])```)\n",
    " * Extract the diagnoal offset by 1 upwards (this should be ```array([ 2,  6, 12, 20, 30, 42, 56, 72, 90])```)"
   ]
  },
  {
   "cell_type": "code",
   "execution_count": 7,
   "metadata": {},
   "outputs": [
    {
     "name": "stdout",
     "output_type": "stream",
     "text": [
      "original array: \n",
      " [[ 1  1  1  1  1  1  1  1  1  1]\n",
      " [ 2  2  2  2  2  2  2  2  2  2]\n",
      " [ 3  3  3  3  3  3  3  3  3  3]\n",
      " [ 4  4  4  4  4  4  4  4  4  4]\n",
      " [ 5  5  5  5  5  5  5  5  5  5]\n",
      " [ 6  6  6  6  6  6  6  6  6  6]\n",
      " [ 7  7  7  7  7  7  7  7  7  7]\n",
      " [ 8  8  8  8  8  8  8  8  8  8]\n",
      " [ 9  9  9  9  9  9  9  9  9  9]\n",
      " [10 10 10 10 10 10 10 10 10 10]] \n",
      "\n",
      "array : \n",
      " [[  1   2   3   4   5   6   7   8   9  10]\n",
      " [  2   4   6   8  10  12  14  16  18  20]\n",
      " [  3   6   9  12  15  18  21  24  27  30]\n",
      " [  4   8  12  16  20  24  28  32  36  40]\n",
      " [  5  10  15  20  25  30  35  40  45  50]\n",
      " [  6  12  18  24  30  36  42  48  54  60]\n",
      " [  7  14  21  28  35  42  49  56  63  70]\n",
      " [  8  16  24  32  40  48  56  64  72  80]\n",
      " [  9  18  27  36  45  54  63  72  81  90]\n",
      " [ 10  20  30  40  50  60  70  80  90 100]] \n",
      "\n",
      "anti-diag  [10 18 24 28 30 30 28 24 18 10]\n",
      "upward 1 element [ 2  6 12 20 30 42 56 72 90]\n"
     ]
    }
   ],
   "source": [
    "a = np.tile(np.arange(1, 11, 1), (10, 1)).T # check what exactly np.tile does! \n",
    "print(\"original array:\",'\\n',a,'\\n')\n",
    "m = a*np.arange(1, 11)\n",
    "print(\"array :\",'\\n', m,'\\n')\n",
    "print(\"anti-diag \", np.diag(np.fliplr(m)))\n",
    "print(\"upward 1 element\", np.diag(m[1:,:]))"
   ]
  },
  {
   "cell_type": "markdown",
   "metadata": {},
   "source": [
    "6\\. Use broadcasting to create a grid of distances\n",
    "\n",
    "Route 66 crosses the following cities in the US: Chicago, Springfield, Saint-Louis, Tulsa, Oklahoma City, Amarillo, Santa Fe, Albuquerque, Flagstaff, Los Angeles\n",
    "The corresponding positions in miles are: 0, 198, 303, 736, 871, 1175, 1475, 1544, 1913, 2448\n",
    "\n",
    "  * Construct a 2D grid of distances among each city along Route 66\n",
    "  * Convert that in km (those savages...)"
   ]
  },
  {
   "cell_type": "code",
   "execution_count": 8,
   "metadata": {},
   "outputs": [
    {
     "name": "stdout",
     "output_type": "stream",
     "text": [
      "test  [[   0.  198.  303.  736.  871. 1175. 1475. 1544. 1913. 2448.]\n",
      " [ 198.    0.    0.    0.    0.    0.    0.    0.    0.    0.]\n",
      " [ 303.    0.    0.    0.    0.    0.    0.    0.    0.    0.]\n",
      " [ 736.    0.    0.    0.    0.    0.    0.    0.    0.    0.]\n",
      " [ 871.    0.    0.    0.    0.    0.    0.    0.    0.    0.]\n",
      " [1175.    0.    0.    0.    0.    0.    0.    0.    0.    0.]\n",
      " [1475.    0.    0.    0.    0.    0.    0.    0.    0.    0.]\n",
      " [1544.    0.    0.    0.    0.    0.    0.    0.    0.    0.]\n",
      " [1913.    0.    0.    0.    0.    0.    0.    0.    0.    0.]\n",
      " [2448.    0.    0.    0.    0.    0.    0.    0.    0.    0.]]\n"
     ]
    }
   ],
   "source": [
    "def grid(cities, miles):\n",
    "    miles = np.array(miles)\n",
    "    m = np.zeros((miles.shape[0], miles.shape[0]))\n",
    "    m[0,:] = miles\n",
    "    m[:,0] = miles\n",
    "    print(\"test \", m)\n",
    "#     a = np.tile(np.arange(0, len(miles), 1), (len(miles), 1)).T\n",
    "#     print (\"original array:\",'\\n',a,'\\n')\n",
    "#     print (\"broadcasted sum :\",'\\n',a+np.arange(len(miles)),'\\n')\n",
    "#     print(cities, miles)\n",
    "\n",
    "cities = \"Chicago, Springfield, Saint-Louis, Tulsa, Oklahoma City, Amarillo, Santa Fe, Albuquerque, Flagstaff, Los Angeles\"\n",
    "cities = cities.split(',')\n",
    "miles = \"0, 198, 303, 736, 871, 1175, 1475, 1544, 1913, 2448\"\n",
    "miles = miles.split(',')\n",
    "grid(cities, miles)"
   ]
  },
  {
   "cell_type": "markdown",
   "metadata": {},
   "source": [
    "7\\. Prime numbers sieve: compute the prime numbers in the 0-N (N=99 to start with) range with a sieve (mask).\n",
    "  * Constract a shape (100,) boolean array, the mask\n",
    "  * Identify the multiples of each number starting from 2 and set accordingly the corresponding mask element\n",
    "  * Apply the mask to obtain an array of ordered prime numbers\n",
    "  * Check the performances (timeit); how does it scale with N?\n",
    "  * Implement the optimization suggested in the [sieve of Eratosthenes](https://en.wikipedia.org/wiki/Sieve_of_Eratosthenes)"
   ]
  },
  {
   "cell_type": "code",
   "execution_count": 9,
   "metadata": {
    "scrolled": false
   },
   "outputs": [
    {
     "name": "stdout",
     "output_type": "stream",
     "text": [
      "29.5 µs ± 5.43 µs per loop (mean ± std. dev. of 7 runs, 10000 loops each)\n",
      "[ 1  2  3  5  7 11 13 17 19 23 29 31 37 41 43 47 53 59 61 67 71 73 79 83\n",
      " 89 97]\n"
     ]
    }
   ],
   "source": [
    "def findPrimes(N):\n",
    "    numbers = np.arange(N)\n",
    "    mask = numbers != 0\n",
    "    \n",
    "    # optimization suggested\n",
    "    for i in range(2,int(np.sqrt(N))):\n",
    "        if mask[i] == True:\n",
    "            for j in range(i**2,N,i):\n",
    "                mask[j] = False\n",
    "                \n",
    "    return numbers[mask]\n",
    "\n",
    "%timeit findPrimes(100)\n",
    "print(findPrimes(100))\n"
   ]
  },
  {
   "cell_type": "markdown",
   "metadata": {},
   "source": [
    "8\\. Diffusion using random walk\n",
    "\n",
    "Consider a simple random walk process: at each step in time, a walker jumps right or left (+1 or -1) with equal probability. The goal is to find the typical distance from the origin of a random walker after a given amount of time. \n",
    "To do that, let's simulate many walkers and create a 2D array with each walker as a raw and the actual time evolution as columns\n",
    "\n",
    "  * Take 1000 walkers and let them walk for 200 steps\n",
    "  * Use randint to create a 2D array of size walkers x steps with values -1 or 1\n",
    "  * Build the actual walking distances for each walker (i.e. another 2D array \"summing on each raw\")\n",
    "  * Take the square of that 2D array (elementwise)\n",
    "  * Compute the mean of the squared distances at each step (i.e. the mean along the columns)\n",
    "  * Plot the average distances (sqrt(distance\\*\\*2)) as a function of time (step)\n",
    "  \n",
    "Did you get what you expected?"
   ]
  },
  {
   "cell_type": "code",
   "execution_count": 16,
   "metadata": {},
   "outputs": [
    {
     "data": {
      "text/plain": [
       "[<matplotlib.lines.Line2D at 0x112d13278>]"
      ]
     },
     "execution_count": 16,
     "metadata": {},
     "output_type": "execute_result"
    },
    {
     "data": {
      "image/png": "[encoded data removed]",
      "text/plain": [
       "<Figure size 432x288 with 1 Axes>"
      ]
     },
     "metadata": {
      "needs_background": "light"
     },
     "output_type": "display_data"
    }
   ],
   "source": [
    "walkers = 1000\n",
    "steps = 200\n",
    "values = np.random.choice([-1,1],size=walkers*steps).reshape(walkers,steps)\n",
    "distances = np.sum(values,axis=1)\n",
    "sqdistance = distances**2\n",
    "distanceperstep = np.sum(values,axis=0)**2/walkers\n",
    "# print(values)\n",
    "# print(distances)\n",
    "# print(meansqdistance)\n",
    "plt.xlabel('time')\n",
    "plt.ylabel('average per step distances')\n",
    "plt.plot(np.arange(steps)+1,np.sqrt(distanceperstep*walkers))"
   ]
  },
  {
   "cell_type": "markdown",
   "metadata": {},
   "source": [
    "9\\. Analyze a data file \n",
    "  * Download the population of hares, lynxes and carrots at the beginning of the last century.\n",
    "    ```python\n",
    "    ! wget https://www.dropbox.com/s/3vigxoqayo389uc/populations.txt\n",
    "    ```\n",
    "\n",
    "  * Check the content by looking within the file\n",
    "  * Load the data (use an appropriate numpy method) into a 2D array\n",
    "  * Create arrays out of the columns, the arrays being (in order): *year*, *hares*, *lynxes*, *carrots* \n",
    "  * Plot the 3 populations over the years\n",
    "  * Compute the main statistical properties of the dataset (mean, std, correlations, etc.)\n",
    "  * Which species has the highest population each year?\n",
    "\n",
    "Do you feel there is some evident correlation here? [Studies](https://www.enr.gov.nt.ca/en/services/lynx/lynx-snowshoe-hare-cycle) tend to believe so."
   ]
  },
  {
   "cell_type": "code",
   "execution_count": 36,
   "metadata": {},
   "outputs": [
    {
     "name": "stdout",
     "output_type": "stream",
     "text": [
      "[[ 1900. 30000.  4000. 48300.]\n",
      " [ 1901. 47200.  6100. 48200.]\n",
      " [ 1902. 70200.  9800. 41500.]\n",
      " [ 1903. 77400. 35200. 38200.]\n",
      " [ 1904. 36300. 59400. 40600.]\n",
      " [ 1905. 20600. 41700. 39800.]\n",
      " [ 1906. 18100. 19000. 38600.]\n",
      " [ 1907. 21400. 13000. 42300.]\n",
      " [ 1908. 22000.  8300. 44500.]\n",
      " [ 1909. 25400.  9100. 42100.]\n",
      " [ 1910. 27100.  7400. 46000.]\n",
      " [ 1911. 40300.  8000. 46800.]\n",
      " [ 1912. 57000. 12300. 43800.]\n",
      " [ 1913. 76600. 19500. 40900.]\n",
      " [ 1914. 52300. 45700. 39400.]\n",
      " [ 1915. 19500. 51100. 39000.]\n",
      " [ 1916. 11200. 29700. 36700.]\n",
      " [ 1917.  7600. 15800. 41800.]\n",
      " [ 1918. 14600.  9700. 43300.]\n",
      " [ 1919. 16200. 10100. 41300.]\n",
      " [ 1920. 24700.  8600. 47300.]]\n"
     ]
    },
    {
     "data": {
      "image/png": "[encoded data removed]",
      "text/plain": [
       "<Figure size 432x288 with 1 Axes>"
      ]
     },
     "metadata": {
      "needs_background": "light"
     },
     "output_type": "display_data"
    },
    {
     "name": "stdout",
     "output_type": "stream",
     "text": [
      "Mean hares:  34080.95238095238\n",
      "Std hares: 20897.906458089667\n",
      "Mean lynxes: 20166.666666666668\n",
      "Std lynxes: 16254.591536908763\n",
      "Mean carrots: 42400.0\n",
      "Std carrots: 3322.5062255844787\n",
      "Correlate h: 1.0\n",
      "correlate l 1.0\n",
      "correlate c 1.0\n",
      "years in which hares have highest population [1902. 1903. 1912. 1913. 1914.]\n"
     ]
    }
   ],
   "source": [
    "data = np.loadtxt('populations.txt')\n",
    "print(data)\n",
    "years = data[:,0]\n",
    "hares = data[:,1]\n",
    "lynxes = data[:,2]\n",
    "carrots = data[:,3]\n",
    "\n",
    "plt.plot(years, hares, label=\"hares\")\n",
    "plt.plot(years, lynxes, label=\"lynxes\")\n",
    "plt.plot(years, carrots, label=\"carrots\")\n",
    "plt.legend(loc='upper right')\n",
    "plt.show()\n",
    "\n",
    "print (\"Mean hares: \", hares.mean(axis=0))\n",
    "print (\"Std hares:\",hares.std(axis=0))\n",
    "print (\"Mean lynxes:\", lynxes.mean(axis=0))\n",
    "print (\"Std lynxes:\", lynxes.std(axis=0))\n",
    "print (\"Mean carrots:\", carrots.mean(axis=0))\n",
    "print (\"Std carrots:\", carrots.std(axis=0))\n",
    "\n",
    "print (\"Correlate h:\",np.corrcoef(hares))\n",
    "print (\"correlate l\",np.corrcoef(lynxes))\n",
    "print (\"correlate c\",np.corrcoef(carrots))\n",
    "\n",
    "print('years in which hares have highest population', years[np.logical_and(hares > lynxes, hares > carrots)])"
   ]
  },
  {
   "cell_type": "code",
   "execution_count": null,
   "metadata": {},
   "outputs": [],
   "source": []
  },
  {
   "cell_type": "code",
   "execution_count": null,
   "metadata": {},
   "outputs": [],
   "source": []
  }
 ],
 "metadata": {
  "kernelspec": {
   "display_name": "Python 3",
   "language": "python",
   "name": "python3"
  },
  "language_info": {
   "codemirror_mode": {
    "name": "ipython",
    "version": 3
   },
   "file_extension": ".py",
   "mimetype": "text/x-python",
   "name": "python",
   "nbconvert_exporter": "python",
   "pygments_lexer": "ipython3",
   "version": "3.7.0"
  }
 },
 "nbformat": 4,
 "nbformat_minor": 2
}
