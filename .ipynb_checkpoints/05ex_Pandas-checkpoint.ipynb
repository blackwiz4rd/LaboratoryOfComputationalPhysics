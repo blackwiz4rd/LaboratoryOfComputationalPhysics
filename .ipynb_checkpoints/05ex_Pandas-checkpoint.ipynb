{
 "cells": [
  {
   "cell_type": "markdown",
   "metadata": {},
   "source": [
    "## Pandas analysis\n",
    "\n",
    "In the following a series of exercises is proposed on a dataset containg timing information from a series of Time-to-Digital-Converters (TDC) implemented in a couple of FPGA's. Each measurement (i.e. each raw) consists of the address of the TDC providing the signal, 'FPGA' and 'TDC_Channel, and the timing information itself, 'ORBIT_CNT', 'BX_COUNTER' and 'TDC_MEAS'. Each TDC count correspond 25/30 ns, whereas the BX_COUNTER feauters gets updated every 25 ns and the ORBIT_CNT every 'x' BX_COUNTER. You can see these way of storing the time as similar to hours, minutes and seconds.\n",
    "\n",
    "1\\. Create a Pandas DataFrame by read N raws of the 'data_000637.txt' dataset. Choose N to be smaller than or equal to the maximum number of raws and larger that 10k.\n",
    "\n",
    "2\\. Find out the value of 'x'\n",
    "\n",
    "3\\. Find out how much the data taking lasted. You can either make an estimate on the baseis of the fraction of the measurements (raws) you read, or perform this check precisely by reading out the whole dataset\n",
    "\n",
    "4\\. Create a new column with the actual time in ns (as a combination of the other three columns with timing information)\n",
    "\n",
    "5\\. Replace the values (all 1) of the HEAD column randomly with 0 or 1\n",
    "\n",
    "6\\. Create a new DataFrame with only the raws with HEAD=1\n",
    "\n",
    "7\\. Make two occupancy plots (one per FPGA), i.e. plot the number of counts per TDC channel\n",
    "\n",
    "8\\. Use the groupby method to find out the noisy channels, i.e. the TDC channels with most counts (say the top 3)\n",
    "\n",
    "9\\. Count the number of unique orbits. Count the number of unique orbits with at least one measurement from TDC_CHANNEL=139"
   ]
  },
  {
   "cell_type": "code",
   "execution_count": 46,
   "metadata": {},
   "outputs": [
    {
     "name": "stdout",
     "output_type": "stream",
     "text": [
      "total_time ms 8.996575\n",
      "TDC_CHANNEL\n",
      "139    860\n",
      "63     499\n",
      "64     491\n",
      "dtype: int64\n",
      "TDC_CHANNEL\n",
      "139    599\n",
      "63     496\n",
      "64     480\n",
      "dtype: int64\n",
      "TDC_CHANNEL\n",
      "139    261\n",
      "2      250\n",
      "1      237\n",
      "dtype: int64\n",
      "Number of unique orbits 101\n",
      "Number of unique orbits with at least one measurement from TDC_CHANNEL 139 :  101\n"
     ]
    },
    {
     "data": {
      "image/png": "[encoded data removed]",
      "text/plain": [
       "<Figure size 432x288 with 1 Axes>"
      ]
     },
     "metadata": {
      "needs_background": "light"
     },
     "output_type": "display_data"
    }
   ],
   "source": [
    "import pandas as pd\n",
    "import numpy as np\n",
    "import matplotlib.pyplot as plt\n",
    "\n",
    "%matplotlib inline\n",
    "\n",
    "# 1.\n",
    "file_name = '/Volumes/HDD/Documents/github/data/data_000637.txt'\n",
    "N = 10**3*10\n",
    "data = pd.read_csv(file_name, nrows=N)\n",
    "\n",
    "# 2.\n",
    "x = np.max(data['BX_COUNTER']) # x - 0\n",
    "# useful metrics to understand the dataset measures\n",
    "# print(np.unique(data['BX_COUNTER']), np.unique(data['BX_COUNTER']).size)\n",
    "# print(np.min(data['ORBIT_CNT']), np.max(data['ORBIT_CNT']))\n",
    "# print(np.min(data['TDC_MEAS']), np.max(data['TDC_MEAS']))\n",
    "# print(np.unique(data['TDC_MEAS']), np.unique(data['TDC_MEAS']).size)\n",
    "# print(np.unique(data['ORBIT_CNT']), np.unique(data['ORBIT_CNT']).size)\n",
    "\n",
    "# print(data.iloc[0,:])\n",
    "# print(data.iloc[x,:])\n",
    "\n",
    "# 3.\n",
    "mins = np.unique(data['ORBIT_CNT']).size\n",
    "secs = x\n",
    "total_time = mins*secs*25 #ns\n",
    "print('total_time ms', total_time*10**-6)\n",
    "\n",
    "# 4.\n",
    "data['timens'] = (data['ORBIT_CNT']-np.min(data['ORBIT_CNT'])+1)*(data['BX_COUNTER'] - np.min(data['BX_COUNTER']))*25 #ns\n",
    "#print(data)\n",
    "\n",
    "# 5.\n",
    "data['HEAD'] = np.random.randint(2,size=N,dtype='int')\n",
    "#print(data)\n",
    "\n",
    "# 6.\n",
    "data2 = data.copy()\n",
    "data2['HEAD'] = np.ones(N)\n",
    "#print(data)\n",
    "\n",
    "# 7.\n",
    "data0 = data[data['FPGA']==0]\n",
    "# slow way\n",
    "# CHANNELS = np.unique(data0['TDC_CHANNEL'])\n",
    "# count_in_channel = np.array([])\n",
    "# for i in CHANNELS:\n",
    "#     count_in_channel = np.append(count_in_channel, data0[data0['TDC_CHANNEL']==i].size)\n",
    "plt.plot(data0.groupby('TDC_CHANNEL').size(), '.')\n",
    "\n",
    "data1 = data[data['FPGA']==1]\n",
    "# slow way\n",
    "# CHANNELS = np.unique(data1['TDC_CHANNEL'])\n",
    "# count_in_channel = np.array([])\n",
    "# for i in CHANNELS:\n",
    "#     count_in_channel = np.append(count_in_channel, data1[data1['TDC_CHANNEL']==i].size)\n",
    "plt.plot(data1.groupby('TDC_CHANNEL').size(), '.')\n",
    "\n",
    "# 8.\n",
    "print(data.groupby('TDC_CHANNEL').size().nlargest(3))\n",
    "print(data0.groupby('TDC_CHANNEL').size().nlargest(3))\n",
    "print(data1.groupby('TDC_CHANNEL').size().nlargest(3))\n",
    "\n",
    "# 9.\n",
    "d = data[data['TDC_CHANNEL']==139]\n",
    "# another way\n",
    "# print(\"Number of unique orbits\", np.unique(data['ORBIT_CNT']).size)\n",
    "# print(\"Number of unique orbits with at least one measurement from TDC_CHANNEL 139 : \", np.unique(d['ORBIT_CNT']).size)\n",
    "print(\"Number of unique orbits\", data.groupby('ORBIT_CNT').size().size)\n",
    "print(\"Number of unique orbits with at least one measurement from TDC_CHANNEL 139 : \", d.groupby('ORBIT_CNT').size().size)"
   ]
  }
 ],
 "metadata": {
  "kernelspec": {
   "display_name": "Python 3",
   "language": "python",
   "name": "python3"
  },
  "language_info": {
   "codemirror_mode": {
    "name": "ipython",
    "version": 3
   },
   "file_extension": ".py",
   "mimetype": "text/x-python",
   "name": "python",
   "nbconvert_exporter": "python",
   "pygments_lexer": "ipython3",
   "version": "3.7.0"
  }
 },
 "nbformat": 4,
 "nbformat_minor": 2
}
